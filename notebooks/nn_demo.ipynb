{
 "cells": [
  {
   "cell_type": "code",
   "execution_count": 1,
   "id": "50a28b37-45e7-42bb-be63-17c80603083d",
   "metadata": {},
   "outputs": [],
   "source": [
    "import sys\n",
    "import os\n",
    "import numpy as np\n",
    "from sklearn.datasets import load_breast_cancer\n",
    "from sklearn.model_selection import train_test_split\n",
    "from sklearn.preprocessing import StandardScaler\n",
    "from sklearn.metrics import accuracy_score"
   ]
  },
  {
   "cell_type": "code",
   "execution_count": 2,
   "id": "000db0ba-29f3-4bbb-a64b-ea28865c6ca3",
   "metadata": {},
   "outputs": [],
   "source": [
    "# import the model \n",
    "sys.path.append(os.path.abspath('../models'))\n",
    "from neural_network.model import NeuralNetwork"
   ]
  },
  {
   "cell_type": "code",
   "execution_count": 3,
   "id": "590ed3e4-387b-4f65-9342-ed540b90cf8a",
   "metadata": {},
   "outputs": [],
   "source": [
    "# Load the breast cancer dataset\n",
    "cancer = load_breast_cancer()\n",
    "X = cancer.data\n",
    "y = cancer.target"
   ]
  },
  {
   "cell_type": "code",
   "execution_count": 4,
   "id": "64b115cf-12bc-4f8b-bc4f-53ba115cab02",
   "metadata": {},
   "outputs": [],
   "source": [
    "# Split into training and testing sets\n",
    "X_train, X_test, y_train, y_test = train_test_split(X, y, test_size=0.2, random_state=42)\n",
    "# Reshaping the labels\n",
    "y_train = y_train.reshape(-1, 1)\n",
    "y_test = y_test.reshape(-1, 1)"
   ]
  },
  {
   "cell_type": "code",
   "execution_count": 5,
   "id": "b2dd8764-26c2-4656-8d57-99f54d4b0277",
   "metadata": {},
   "outputs": [
    {
     "data": {
      "text/plain": [
       "(455, 1)"
      ]
     },
     "execution_count": 5,
     "metadata": {},
     "output_type": "execute_result"
    }
   ],
   "source": [
    "y_train.shape"
   ]
  },
  {
   "cell_type": "code",
   "execution_count": 6,
   "id": "9df43c8f-4283-4769-9319-27c865dc8a35",
   "metadata": {},
   "outputs": [],
   "source": [
    "# Normalize the features\n",
    "scaler = StandardScaler()\n",
    "X_train = scaler.fit_transform(X_train)\n",
    "X_test = scaler.transform(X_test)"
   ]
  },
  {
   "cell_type": "code",
   "execution_count": 7,
   "id": "23b24af1-205b-4b94-813e-b896e2f30298",
   "metadata": {},
   "outputs": [],
   "source": [
    "# Preapare the model\n",
    "nn = NeuralNetwork(30 , [30,20,5] , 1)"
   ]
  },
  {
   "cell_type": "code",
   "execution_count": 8,
   "id": "bbecbf35-1147-455c-afe1-f02aaa17bf75",
   "metadata": {},
   "outputs": [
    {
     "name": "stdout",
     "output_type": "stream",
     "text": [
      "Epoch 0/10000 - Loss: 0.249786\n",
      "Epoch 100/10000 - Loss: 0.247773\n",
      "Epoch 200/10000 - Loss: 0.245987\n",
      "Epoch 300/10000 - Loss: 0.244397\n",
      "Epoch 400/10000 - Loss: 0.242978\n",
      "Epoch 500/10000 - Loss: 0.241707\n",
      "Epoch 600/10000 - Loss: 0.240567\n",
      "Epoch 700/10000 - Loss: 0.239538\n",
      "Epoch 800/10000 - Loss: 0.238600\n",
      "Epoch 900/10000 - Loss: 0.237740\n",
      "Epoch 1000/10000 - Loss: 0.236943\n",
      "Epoch 1100/10000 - Loss: 0.236194\n",
      "Epoch 1200/10000 - Loss: 0.235485\n",
      "Epoch 1300/10000 - Loss: 0.234803\n",
      "Epoch 1400/10000 - Loss: 0.234134\n",
      "Epoch 1500/10000 - Loss: 0.233466\n",
      "Epoch 1600/10000 - Loss: 0.232789\n",
      "Epoch 1700/10000 - Loss: 0.232084\n",
      "Epoch 1800/10000 - Loss: 0.231339\n",
      "Epoch 1900/10000 - Loss: 0.230536\n",
      "Epoch 2000/10000 - Loss: 0.229654\n",
      "Epoch 2100/10000 - Loss: 0.228670\n",
      "Epoch 2200/10000 - Loss: 0.227544\n",
      "Epoch 2300/10000 - Loss: 0.226243\n",
      "Epoch 2400/10000 - Loss: 0.224716\n",
      "Epoch 2500/10000 - Loss: 0.222905\n",
      "Epoch 2600/10000 - Loss: 0.220724\n",
      "Epoch 2700/10000 - Loss: 0.218070\n",
      "Epoch 2800/10000 - Loss: 0.214811\n",
      "Epoch 2900/10000 - Loss: 0.210772\n",
      "Epoch 3000/10000 - Loss: 0.205774\n",
      "Epoch 3100/10000 - Loss: 0.199626\n",
      "Epoch 3200/10000 - Loss: 0.192231\n",
      "Epoch 3300/10000 - Loss: 0.183652\n",
      "Epoch 3400/10000 - Loss: 0.174192\n",
      "Epoch 3500/10000 - Loss: 0.164352\n",
      "Epoch 3600/10000 - Loss: 0.154690\n",
      "Epoch 3700/10000 - Loss: 0.145649\n",
      "Epoch 3800/10000 - Loss: 0.137438\n",
      "Epoch 3900/10000 - Loss: 0.130101\n",
      "Epoch 4000/10000 - Loss: 0.123578\n",
      "Epoch 4100/10000 - Loss: 0.117763\n",
      "Epoch 4200/10000 - Loss: 0.112515\n",
      "Epoch 4300/10000 - Loss: 0.107751\n",
      "Epoch 4400/10000 - Loss: 0.103395\n",
      "Epoch 4500/10000 - Loss: 0.099367\n",
      "Epoch 4600/10000 - Loss: 0.095620\n",
      "Epoch 4700/10000 - Loss: 0.092116\n",
      "Epoch 4800/10000 - Loss: 0.088831\n",
      "Epoch 4900/10000 - Loss: 0.085747\n",
      "Epoch 5000/10000 - Loss: 0.082860\n",
      "Epoch 5100/10000 - Loss: 0.080145\n",
      "Epoch 5200/10000 - Loss: 0.077594\n",
      "Epoch 5300/10000 - Loss: 0.075212\n",
      "Epoch 5400/10000 - Loss: 0.072961\n",
      "Epoch 5500/10000 - Loss: 0.070850\n",
      "Epoch 5600/10000 - Loss: 0.068873\n",
      "Epoch 5700/10000 - Loss: 0.067005\n",
      "Epoch 5800/10000 - Loss: 0.065235\n",
      "Epoch 5900/10000 - Loss: 0.063544\n",
      "Epoch 6000/10000 - Loss: 0.061928\n",
      "Epoch 6100/10000 - Loss: 0.060393\n",
      "Epoch 6200/10000 - Loss: 0.058932\n",
      "Epoch 6300/10000 - Loss: 0.057540\n",
      "Epoch 6400/10000 - Loss: 0.056211\n",
      "Epoch 6500/10000 - Loss: 0.054934\n",
      "Epoch 6600/10000 - Loss: 0.053712\n",
      "Epoch 6700/10000 - Loss: 0.052541\n",
      "Epoch 6800/10000 - Loss: 0.051417\n",
      "Epoch 6900/10000 - Loss: 0.050334\n",
      "Epoch 7000/10000 - Loss: 0.049294\n",
      "Epoch 7100/10000 - Loss: 0.048300\n",
      "Epoch 7200/10000 - Loss: 0.047340\n",
      "Epoch 7300/10000 - Loss: 0.046419\n",
      "Epoch 7400/10000 - Loss: 0.045532\n",
      "Epoch 7500/10000 - Loss: 0.044681\n",
      "Epoch 7600/10000 - Loss: 0.043864\n",
      "Epoch 7700/10000 - Loss: 0.043077\n",
      "Epoch 7800/10000 - Loss: 0.042313\n",
      "Epoch 7900/10000 - Loss: 0.041572\n",
      "Epoch 8000/10000 - Loss: 0.040844\n",
      "Epoch 8100/10000 - Loss: 0.040141\n",
      "Epoch 8200/10000 - Loss: 0.039464\n",
      "Epoch 8300/10000 - Loss: 0.038811\n",
      "Epoch 8400/10000 - Loss: 0.038182\n",
      "Epoch 8500/10000 - Loss: 0.037576\n",
      "Epoch 8600/10000 - Loss: 0.036988\n",
      "Epoch 8700/10000 - Loss: 0.036422\n",
      "Epoch 8800/10000 - Loss: 0.035871\n",
      "Epoch 8900/10000 - Loss: 0.035341\n",
      "Epoch 9000/10000 - Loss: 0.034826\n",
      "Epoch 9100/10000 - Loss: 0.034328\n",
      "Epoch 9200/10000 - Loss: 0.033844\n",
      "Epoch 9300/10000 - Loss: 0.033376\n",
      "Epoch 9400/10000 - Loss: 0.032927\n",
      "Epoch 9500/10000 - Loss: 0.032491\n",
      "Epoch 9600/10000 - Loss: 0.032069\n",
      "Epoch 9700/10000 - Loss: 0.031663\n",
      "Epoch 9800/10000 - Loss: 0.031269\n",
      "Epoch 9900/10000 - Loss: 0.030887\n"
     ]
    }
   ],
   "source": [
    "nn.train(X_train, y_train, epochs=10000, learning_rate=0.01)"
   ]
  },
  {
   "cell_type": "code",
   "execution_count": 9,
   "id": "45a59611-9e2d-41c4-b8cb-86805458edbe",
   "metadata": {},
   "outputs": [
    {
     "name": "stdout",
     "output_type": "stream",
     "text": [
      "Accuracy: 100.00%\n"
     ]
    }
   ],
   "source": [
    "# Make predictions on the test set\n",
    "predictions = nn.predict(X_test)\n",
    "\n",
    "# Convert predictions to a class label\n",
    "predicted_classes = np.argmax(predictions, axis=1)\n",
    "true_classes = np.argmax(y_test, axis=1)\n",
    "\n",
    "# Calculate accuracy\n",
    "accuracy = np.mean(predicted_classes == true_classes)\n",
    "print(f\"Accuracy: {accuracy * 100:.2f}%\")"
   ]
  },
  {
   "cell_type": "code",
   "execution_count": null,
   "id": "29f3e0f5-8be6-4881-8870-873ec33ea802",
   "metadata": {},
   "outputs": [],
   "source": []
  }
 ],
 "metadata": {
  "kernelspec": {
   "display_name": "Python 3 (ipykernel)",
   "language": "python",
   "name": "python3"
  },
  "language_info": {
   "codemirror_mode": {
    "name": "ipython",
    "version": 3
   },
   "file_extension": ".py",
   "mimetype": "text/x-python",
   "name": "python",
   "nbconvert_exporter": "python",
   "pygments_lexer": "ipython3",
   "version": "3.12.5"
  }
 },
 "nbformat": 4,
 "nbformat_minor": 5
}
