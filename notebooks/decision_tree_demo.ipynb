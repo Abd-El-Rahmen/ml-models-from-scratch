{
 "cells": [
  {
   "cell_type": "code",
   "execution_count": 1,
   "id": "2b15e84a-977e-4c0a-bfc2-e2e4253cb453",
   "metadata": {},
   "outputs": [],
   "source": [
    "import pandas as pd\n",
    "file_path = '../data/Adult-Income-Dataset.csv'"
   ]
  },
  {
   "cell_type": "code",
   "execution_count": 2,
   "id": "0646238a-7d7d-4520-bcb4-ad77db6fc33b",
   "metadata": {},
   "outputs": [],
   "source": [
    "import sys\n",
    "import os\n",
    "sys.path.append(os.path.abspath('../models'))\n",
    "sys.path.append(os.path.abspath('../'))\n",
    "from decision_tree.decision_tree import DecisionTree\n",
    "from utils import preprocess_data,evaluate_model"
   ]
  },
  {
   "cell_type": "code",
   "execution_count": 3,
   "id": "3d21f8d8-e161-4274-91a3-c94357f2e8ae",
   "metadata": {},
   "outputs": [],
   "source": [
    "X_train, X_test, y_train, y_test = preprocess_data(file_path , \"income_>50K\")"
   ]
  },
  {
   "cell_type": "code",
   "execution_count": 4,
   "id": "d22a73bc-d907-4362-953a-114b32941c6f",
   "metadata": {},
   "outputs": [],
   "source": [
    "model = DecisionTree(max_depth=10)\n",
    "model.fit(X_train,y_train)"
   ]
  },
  {
   "cell_type": "code",
   "execution_count": 7,
   "id": "96ddd2af-f30c-42a5-87c6-2ca90f55ef82",
   "metadata": {},
   "outputs": [],
   "source": [
    "rmse , r2 = evaluate_model(model,X_test,y_test)"
   ]
  },
  {
   "cell_type": "code",
   "execution_count": 10,
   "id": "f3acfb36-a020-48fa-a2a9-ebf92daa323e",
   "metadata": {},
   "outputs": [
    {
     "data": {
      "text/plain": [
       "(np.float64(0.14064179333640411), 0.23158182981142683)"
      ]
     },
     "execution_count": 10,
     "metadata": {},
     "output_type": "execute_result"
    }
   ],
   "source": [
    "rmse , r2"
   ]
  },
  {
   "cell_type": "code",
   "execution_count": null,
   "id": "1c29e643-e988-4c97-9361-5c0aec91b1d3",
   "metadata": {},
   "outputs": [],
   "source": []
  }
 ],
 "metadata": {
  "kernelspec": {
   "display_name": "Python 3 (ipykernel)",
   "language": "python",
   "name": "python3"
  },
  "language_info": {
   "codemirror_mode": {
    "name": "ipython",
    "version": 3
   },
   "file_extension": ".py",
   "mimetype": "text/x-python",
   "name": "python",
   "nbconvert_exporter": "python",
   "pygments_lexer": "ipython3",
   "version": "3.12.5"
  }
 },
 "nbformat": 4,
 "nbformat_minor": 5
}
